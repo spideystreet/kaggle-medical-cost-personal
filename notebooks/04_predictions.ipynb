{
 "cells": [
  {
   "cell_type": "code",
   "execution_count": 6,
   "metadata": {},
   "outputs": [
    {
     "name": "stdout",
     "output_type": "stream",
     "text": [
      "zsh:source:1: no such file or directory: venv/bin/activate\n"
     ]
    }
   ],
   "source": [
    "!source venv/bin/activate\n",
    "\n",
    "import pandas as pd\n",
    "import pickle\n",
    "import sys\n",
    "sys.path.append('../')  # Add parent directory to path\n",
    "from src.predict import predict_insurance_charge"
   ]
  },
  {
   "cell_type": "code",
   "execution_count": 8,
   "metadata": {},
   "outputs": [
    {
     "name": "stdout",
     "output_type": "stream",
     "text": [
      "Predicted cost: $48790.26\n",
      "Monthly cost: $4065.86\n"
     ]
    }
   ],
   "source": [
    "# Load model and data\n",
    "with open('../models/insurance_model.pkl', 'rb') as f:\n",
    "    model_data = pickle.load(f)\n",
    "\n",
    "model = model_data['model']\n",
    "\n",
    "# Try to load scaler if available\n",
    "try:\n",
    "    with open('../data/preprocessed_data.pkl', 'rb') as f:\n",
    "        data = pickle.load(f)\n",
    "    scaler = data.get('scaler', None)\n",
    "except:\n",
    "    scaler = None\n",
    "\n",
    "# Make prediction\n",
    "predicted_cost = predict_insurance_charge(\n",
    "    model=model,\n",
    "    age=57,\n",
    "    sex=\"male\",\n",
    "    bmi=39,\n",
    "    children=0,\n",
    "    smoker=\"yes\",\n",
    "    region=\"southeast\",\n",
    "    scaler=scaler\n",
    ")\n",
    "\n",
    "# Display results\n",
    "print(f\"Predicted cost: ${predicted_cost:.2f}\")\n",
    "print(f\"Monthly cost: ${predicted_cost/12:.2f}\")"
   ]
  }
 ],
 "metadata": {
  "kernelspec": {
   "display_name": "venv",
   "language": "python",
   "name": "python3"
  },
  "language_info": {
   "codemirror_mode": {
    "name": "ipython",
    "version": 3
   },
   "file_extension": ".py",
   "mimetype": "text/x-python",
   "name": "python",
   "nbconvert_exporter": "python",
   "pygments_lexer": "ipython3",
   "version": "3.13.1"
  }
 },
 "nbformat": 4,
 "nbformat_minor": 2
}
