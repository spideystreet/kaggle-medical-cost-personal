{
 "cells": [
  {
   "cell_type": "markdown",
   "metadata": {},
   "source": [
    "#Imports"
   ]
  },
  {
   "cell_type": "code",
   "execution_count": 20,
   "metadata": {},
   "outputs": [
    {
     "name": "stdout",
     "output_type": "stream",
     "text": [
      "zsh:source:1: no such file or directory: venv/bin/activate\n"
     ]
    }
   ],
   "source": [
    "!source venv/bin/activate\n",
    "\n",
    "# this is for our data manipulations\n",
    "import pandas as pd\n",
    "import numpy as np\n",
    "\n",
    "# this is for our visualizations\n",
    "import matplotlib.pyplot as plt \n",
    "import seaborn as sns\n",
    "\n",
    "plt.rcParams['figure.figsize'] = [8,5]\n",
    "plt.rcParams['font.size'] =14\n",
    "plt.rcParams['font.weight']= 'bold'\n",
    "\n",
    "plt.style.use('https://github.com/dhaitz/matplotlib-stylesheets/raw/master/pitayasmoothie-light.mplstyle')"
   ]
  },
  {
   "cell_type": "markdown",
   "metadata": {},
   "source": [
    "###Charge dataset\n",
    ">So here, we can fastly find our $m$,$n$ values  \n",
    ">$n$=columns, $m$=rows  "
   ]
  },
  {
   "cell_type": "code",
   "execution_count": 6,
   "metadata": {},
   "outputs": [
    {
     "name": "stdout",
     "output_type": "stream",
     "text": [
      "Dataset columns : 7\n",
      "Dataset rows : 1338\n",
      "\n"
     ]
    },
    {
     "data": {
      "text/html": [
       "<div>\n",
       "<style scoped>\n",
       "    .dataframe tbody tr th:only-of-type {\n",
       "        vertical-align: middle;\n",
       "    }\n",
       "\n",
       "    .dataframe tbody tr th {\n",
       "        vertical-align: top;\n",
       "    }\n",
       "\n",
       "    .dataframe thead th {\n",
       "        text-align: right;\n",
       "    }\n",
       "</style>\n",
       "<table border=\"1\" class=\"dataframe\">\n",
       "  <thead>\n",
       "    <tr style=\"text-align: right;\">\n",
       "      <th></th>\n",
       "      <th>age</th>\n",
       "      <th>sex</th>\n",
       "      <th>bmi</th>\n",
       "      <th>children</th>\n",
       "      <th>smoker</th>\n",
       "      <th>region</th>\n",
       "      <th>charges</th>\n",
       "    </tr>\n",
       "  </thead>\n",
       "  <tbody>\n",
       "    <tr>\n",
       "      <th>0</th>\n",
       "      <td>19</td>\n",
       "      <td>female</td>\n",
       "      <td>27.900</td>\n",
       "      <td>0</td>\n",
       "      <td>yes</td>\n",
       "      <td>southwest</td>\n",
       "      <td>16884.92400</td>\n",
       "    </tr>\n",
       "    <tr>\n",
       "      <th>1</th>\n",
       "      <td>18</td>\n",
       "      <td>male</td>\n",
       "      <td>33.770</td>\n",
       "      <td>1</td>\n",
       "      <td>no</td>\n",
       "      <td>southeast</td>\n",
       "      <td>1725.55230</td>\n",
       "    </tr>\n",
       "    <tr>\n",
       "      <th>2</th>\n",
       "      <td>28</td>\n",
       "      <td>male</td>\n",
       "      <td>33.000</td>\n",
       "      <td>3</td>\n",
       "      <td>no</td>\n",
       "      <td>southeast</td>\n",
       "      <td>4449.46200</td>\n",
       "    </tr>\n",
       "    <tr>\n",
       "      <th>3</th>\n",
       "      <td>33</td>\n",
       "      <td>male</td>\n",
       "      <td>22.705</td>\n",
       "      <td>0</td>\n",
       "      <td>no</td>\n",
       "      <td>northwest</td>\n",
       "      <td>21984.47061</td>\n",
       "    </tr>\n",
       "    <tr>\n",
       "      <th>4</th>\n",
       "      <td>32</td>\n",
       "      <td>male</td>\n",
       "      <td>28.880</td>\n",
       "      <td>0</td>\n",
       "      <td>no</td>\n",
       "      <td>northwest</td>\n",
       "      <td>3866.85520</td>\n",
       "    </tr>\n",
       "  </tbody>\n",
       "</table>\n",
       "</div>"
      ],
      "text/plain": [
       "   age     sex     bmi  children smoker     region      charges\n",
       "0   19  female  27.900         0    yes  southwest  16884.92400\n",
       "1   18    male  33.770         1     no  southeast   1725.55230\n",
       "2   28    male  33.000         3     no  southeast   4449.46200\n",
       "3   33    male  22.705         0     no  northwest  21984.47061\n",
       "4   32    male  28.880         0     no  northwest   3866.85520"
      ]
     },
     "execution_count": 6,
     "metadata": {},
     "output_type": "execute_result"
    }
   ],
   "source": [
    "# import the dataset\n",
    "#path ==> 'data/'\n",
    "\n",
    "path = '../data/'\n",
    "n_rows, n_cols = df.shape\n",
    "\n",
    "df = pd.read_csv(path+'insurance.csv')\n",
    "print(f\"Dataset columns : {n_cols}\\nDataset rows : {n_rows}\")\n",
    "print(\"\")\n",
    "\n",
    "# looking into top rows and columns\n",
    "df.head()"
   ]
  },
  {
   "cell_type": "markdown",
   "metadata": {},
   "source": [
    ">$n$=7, $m$=1338  \n",
    ">With $m$ our number of training examples, and $n$ our number of independant variables  \n",
    "\n",
    ">Here :  \n",
    ">- the features $x$ are : ***age, sex, bmi, children, smoker, region***  \n",
    ">- the target variable $y$ is : ***charges***  \n",
    "\n",
    ">That means we need to fit multiple linear regression  \n",
    ">In this project, we will use teta $(\\theta)$ as a vector of $w,b$\n",
    ">\n",
    "$$\n",
    "\\theta = w,b\n",
    "$$\n",
    ">To compute the medical cost for a ***i*** person :\n",
    "$$\n",
    "h_\\theta(x_i)\n",
    "$$  \n",
    ">So the hypothesis function for our dataset :  \n",
    "$$\n",
    "h_\\theta(x_i) = \\theta_0 + \\theta_1 \\cdot \\text{age} + \\theta_2 \\cdot \\text{sex} + \\theta_3 \\cdot \\text{bmi} + \\theta_4 \\cdot \\text{children} + \\theta_5 \\cdot \\text{smoker} + \\theta_6 \\cdot \\text{region}\n",
    "$$\n",
    "\n",
    ">So,  \n",
    ">If $i = 1$,  \n",
    "$$\n",
    "h_\\theta(x_1) = \\theta_0 + \\theta_1 \\cdot 19 + \\theta_2 \\cdot \\text{female} + \\theta_3 \\cdot 27.900 + \\theta_4 \\cdot 1 + \\theta_5 \\cdot \\text{yes} + \\theta_6 \\cdot \\text{southwest}\n",
    "$$\n",
    "$$\n",
    "y1 = 168884.92400\n",
    "$$\n",
    "\n",
    ">Because we have : \n",
    "<p style=\"text-align:center;\">\n",
    "  <img src=\"../images/01_x1.png\">\n",
    "</p>  \n",
    "\n",
    ">$\\theta_0$ = constant (bias/intercept), in french : biais/ordonnée à l'origine  \n",
    ">In fact, it's when all features = 0  \n",
    ">$\\theta_1$ = coefficient of the 1st feature  \n",
    ">$\\theta_2$ = coefficient of the 2nd feature  \n",
    ">...\n",
    "\n",
    ">It's determining the ***height*** of a feature $x$ on the ***model prediction***  \n",
    ">Keep in mind that the best value of $\\theta$ is the one who minimize the most the errors between predictions & true values.\n",
    ">/!\\ Index start from 0, so the first element $i$=1 is index 0\n",
    "\n"
   ]
  },
  {
   "cell_type": "markdown",
   "metadata": {},
   "source": [
    ">So our goal now will be to find best value of $\\theta$"
   ]
  },
  {
   "cell_type": "markdown",
   "metadata": {},
   "source": [
    "#Cost function"
   ]
  },
  {
   "cell_type": "markdown",
   "metadata": {},
   "source": [
    ">The cost function measaure the errors between predicted and real values in our model.  \n",
    "$$\n",
    "J(\\theta) = \\frac{1}{m} \\sum_{i=1}^{m} (h_\\theta(x_i) - y_i)^2\n",
    "$$\n",
    ">It's represent the mean of the squared errors"
   ]
  },
  {
   "cell_type": "markdown",
   "metadata": {},
   "source": []
  },
  {
   "cell_type": "markdown",
   "metadata": {},
   "source": [
    ">To implement the linear regression, take training example add an extra column that is  $X_{0}$ feature  \n",
    "[\\\n",
    "$X$ = \n",
    "\\begin{pmatrix}\n",
    "x_{10} & x_{11} & x_{12} & \\dots & x_{1n} \\\\\n",
    "x_{20} & x_{21} & x_{22} & \\dots & x_{2n} \\\\\n",
    "x_{m0} & x_{m1} & x_{m2} & \\dots & x_{mn}\n",
    "\\end{pmatrix}_{(m,n+1)}\n",
    "\\]\n",
    "\n",
    "Now, we rewrite the least square cost function in matrix form :\n",
    "\n",
    "$$\n",
    "J(\\theta) = \\frac{1}{m} \\left( X\\theta - y \\right)^T \\left( X\\theta - y \\right)\n",
    "$$\n",
    "\n"
   ]
  },
  {
   "cell_type": "markdown",
   "metadata": {},
   "source": [
    "#J derivative"
   ]
  },
  {
   "cell_type": "markdown",
   "metadata": {},
   "source": [
    ">To minimize our cost function and also obtain optimal values for $\\theta$, we need to compute the derivative of J($\\theta$)\n",
    "$$\n",
    "\\frac{\\partial J(\\theta)}{\\partial \\theta_j}J(\\theta)\n",
    "$$\n"
   ]
  }
 ],
 "metadata": {
  "kernelspec": {
   "display_name": "venv",
   "language": "python",
   "name": "python3"
  },
  "language_info": {
   "codemirror_mode": {
    "name": "ipython",
    "version": 3
   },
   "file_extension": ".py",
   "mimetype": "text/x-python",
   "name": "python",
   "nbconvert_exporter": "python",
   "pygments_lexer": "ipython3",
   "version": "3.13.1"
  }
 },
 "nbformat": 4,
 "nbformat_minor": 2
}
